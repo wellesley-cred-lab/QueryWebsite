{
 "cells": [
  {
   "cell_type": "code",
   "execution_count": 254,
   "id": "98ade05e",
   "metadata": {},
   "outputs": [
    {
     "data": {
      "text/plain": [
       "'\\nRanks the amount of changes for all 130 queries based on the get difference json file (The python script\\nthat creates the json file will take care of the two dates part)\\n'"
      ]
     },
     "execution_count": 254,
     "metadata": {},
     "output_type": "execute_result"
    }
   ],
   "source": [
    "'''\n",
    "Ranks the amount of changes for all 130 queries based on the get difference json file (The python script\n",
    "that creates the json file will take care of the two dates part)\n",
    "'''"
   ]
  },
  {
   "cell_type": "code",
   "execution_count": 255,
   "id": "d86f1da0",
   "metadata": {},
   "outputs": [],
   "source": [
    "import json\n",
    "import os"
   ]
  },
  {
   "cell_type": "code",
   "execution_count": 256,
   "id": "fcd76743",
   "metadata": {},
   "outputs": [],
   "source": [
    "def getChanges(filename):    \n",
    "    with open(f'serp-scraper-get-difference/changes/{filename}') as inFile:\n",
    "        changes = json.load(inFile)\n",
    "    organic = changes['organic']\n",
    "    return getChangeScore(organic)"
   ]
  },
  {
   "cell_type": "code",
   "execution_count": 257,
   "id": "a15e25ad",
   "metadata": {},
   "outputs": [],
   "source": [
    "def getChangeScore (organic): \n",
    "    changeScore = 0\n",
    "    appear = 0\n",
    "    move = 0\n",
    "    for item in organic:\n",
    "        if organic[item]['change_type'] != 'unchanged':\n",
    "            #print(organic[item]['change_type'])\n",
    "            if organic[item]['change_type'] == 'appear':\n",
    "                changeScore += 3\n",
    "                appear+=1\n",
    "            if organic[item]['change_type'] == 'move':\n",
    "                move+=1\n",
    "                if abs(organic[item]['change']) < 5:\n",
    "                    changeScore += 1\n",
    "                else:\n",
    "                    changeScore += 2\n",
    "\n",
    "    return changeScore, appear, move"
   ]
  },
  {
   "cell_type": "code",
   "execution_count": 258,
   "id": "cb165c28",
   "metadata": {},
   "outputs": [],
   "source": [
    "# for i in scores:\n",
    "#     print(i)\n",
    "#     print(scores[i]['score'])"
   ]
  },
  {
   "cell_type": "code",
   "execution_count": 376,
   "id": "12e796dc",
   "metadata": {},
   "outputs": [],
   "source": [
    "def generateRankForQueryChangeBetweenTwoDates(date1, date2):\n",
    "    files = os.listdir(\"SERP_Collection/6-8-22\")\n",
    "    files.sort()\n",
    "\n",
    "    scores = {}\n",
    "\n",
    "    for file in files:\n",
    "        if not file.startswith('.'):\n",
    "            query = file[:file.index('.')]\n",
    "            try:\n",
    "                scores[query] = {}\n",
    "                score, appear, move = getChanges(f\"{query}_changebetween_{date1}_and_{date2}.json\")\n",
    "                scores[query]['score'] = score\n",
    "                scores[query]['appear'] = appear\n",
    "                scores[query]['move'] = move\n",
    "            except:\n",
    "                print(\"file not found\")\n",
    "                scores[query]['score'] = -1\n",
    "                scores[query]['appear'] = -1\n",
    "                scores[query]['move'] = -1\n",
    "            #print(query)\n",
    "\n",
    "    # for k_v in scores.items():\n",
    "    #     print(k_v[1]['score'])\n",
    "    #scores = sorted(scores,key=lambda x:scores[x]['score'], reverse=True)\n",
    "    scores = dict(sorted(scores.items(), key=lambda k_v: k_v[1]['score'], reverse=True))\n",
    "    i=1\n",
    "    for item in scores:\n",
    "        scores[item]['rank'] = i\n",
    "        i+=1\n",
    "    print(scores)\n",
    "\n",
    "    with open(f'ranked-queries/rankforquerychangebetween_{date1}_and_{date2}.json', \"w\") as outfile:  ##UNCOMMENT LATER\n",
    "            json.dump(scores, outfile)"
   ]
  },
  {
   "cell_type": "code",
   "execution_count": 373,
   "id": "2ccbdb97",
   "metadata": {},
   "outputs": [],
   "source": [
    "#generateRankForQueryChangeBetweenTwoDates(\"6-8-22\", \"6-9-22\")"
   ]
  },
  {
   "cell_type": "code",
   "execution_count": 260,
   "id": "cbe4dcd9",
   "metadata": {},
   "outputs": [],
   "source": []
  },
  {
   "cell_type": "code",
   "execution_count": 261,
   "id": "6cefb220",
   "metadata": {},
   "outputs": [],
   "source": [
    "# files = os.listdir(\"SERP_Collection/6-8-22\")\n",
    "# files.sort()\n",
    "# for file in files:\n",
    "#     if not file.startswith('.'):\n",
    "#         query = file[:file.index('.')]\n",
    "#         print(query)"
   ]
  },
  {
   "cell_type": "code",
   "execution_count": 262,
   "id": "e999eaf3",
   "metadata": {},
   "outputs": [],
   "source": [
    "# dateFolders = os.listdir(\"SERP_Collection\")\n",
    "# files.sort()\n",
    "\n",
    "# #files.remove(\".DS_Store\")\n",
    "# print(files)"
   ]
  },
  {
   "cell_type": "code",
   "execution_count": 355,
   "id": "a7d6778d",
   "metadata": {},
   "outputs": [
    {
     "data": {
      "text/plain": [
       "['6-13-22', '6-9-22', '6-8-22']"
      ]
     },
     "execution_count": 355,
     "metadata": {},
     "output_type": "execute_result"
    }
   ],
   "source": [
    "folders = os.listdir('SERP_Collection')\n",
    "folders.remove(\".DS_Store\")\n",
    "#print(folders)\n",
    "datesList = []\n",
    "for folder in folders:\n",
    "    dateComponents = folder.split(\"-\")\n",
    "    datesList.append({'month':int(dateComponents[0]), 'day':int(dateComponents[1]), 'year':int(dateComponents[2])})\n",
    "datesList = sorted(datesList, key=lambda x: (x['year'], x['month'], x['day']),reverse=True)\n",
    "sortedDates = []\n",
    "for d in datesList:\n",
    "    sortedDates.append(str(d['month'])+'-'+str(d['day'])+'-'+str(d['year']))\n",
    "folders = sortedDates \n",
    "folders"
   ]
  },
  {
   "cell_type": "code",
   "execution_count": 385,
   "id": "43f78054",
   "metadata": {},
   "outputs": [],
   "source": [
    "def getPairs(folders):\n",
    "    pairs = []\n",
    "    for i in range(0,len(folders)-1):\n",
    "            print(folders[i+1] + \" \" + folders[i])\n",
    "            generateRankForQueryChangeBetweenTwoDates(folders[i+1], folders[i])\n",
    "            print()"
   ]
  },
  {
   "cell_type": "code",
   "execution_count": 386,
   "id": "258b2dc9",
   "metadata": {},
   "outputs": [
    {
     "name": "stdout",
     "output_type": "stream",
     "text": [
      "6-9-22 6-13-22\n",
      "file not found\n",
      "file not found\n",
      "{'Gender-reaffirming resources free': {'score': 24, 'appear': 7, 'move': 3, 'rank': 1}, 'they them': {'score': 17, 'appear': 4, 'move': 5, 'rank': 2}, 'What is trauma bonding': {'score': 12, 'appear': 3, 'move': 3, 'rank': 3}, 'Asexual': {'score': 11, 'appear': 2, 'move': 5, 'rank': 4}, 'Bisexual': {'score': 11, 'appear': 2, 'move': 5, 'rank': 5}, 'How to create space for LGBTQ+ community': {'score': 11, 'appear': 1, 'move': 8, 'rank': 6}, 'Non-binary Gender Queer': {'score': 10, 'appear': 2, 'move': 4, 'rank': 7}, 'Omnisexual': {'score': 10, 'appear': 3, 'move': 1, 'rank': 8}, 'Toxic relationship': {'score': 10, 'appear': 1, 'move': 7, 'rank': 9}, 'Cisgender': {'score': 9, 'appear': 0, 'move': 9, 'rank': 10}, 'Demisexual': {'score': 9, 'appear': 2, 'move': 3, 'rank': 11}, 'Gender neutral gender inclusive pronouns': {'score': 9, 'appear': 1, 'move': 6, 'rank': 12}, 'Hotlines for those in abusive relationships': {'score': 9, 'appear': 2, 'move': 3, 'rank': 13}, 'How to come out': {'score': 9, 'appear': 1, 'move': 6, 'rank': 14}, 'Different kinds of domestic abuse': {'score': 8, 'appear': 1, 'move': 5, 'rank': 15}, 'Gaslighting': {'score': 8, 'appear': 1, 'move': 5, 'rank': 16}, 'How to be a LGBTQ+ ally': {'score': 8, 'appear': 2, 'move': 2, 'rank': 17}, 'LGBTQ+': {'score': 8, 'appear': 2, 'move': 2, 'rank': 18}, 'Learning about attachment styles': {'score': 8, 'appear': 1, 'move': 5, 'rank': 19}, 'Resources for reporting partner abuse': {'score': 8, 'appear': 2, 'move': 2, 'rank': 20}, 'she her': {'score': 8, 'appear': 1, 'move': 5, 'rank': 21}, 'Abusive relationship': {'score': 7, 'appear': 1, 'move': 4, 'rank': 22}, 'Ace': {'score': 7, 'appear': 2, 'move': 1, 'rank': 23}, 'Attachment styles and cycles of abuse': {'score': 7, 'appear': 0, 'move': 7, 'rank': 24}, 'Coming out experiences': {'score': 7, 'appear': 1, 'move': 4, 'rank': 25}, 'Gender neutral pronouns': {'score': 7, 'appear': 2, 'move': 1, 'rank': 26}, 'How become financially independent in a relationship': {'score': 7, 'appear': 1, 'move': 4, 'rank': 27}, 'How to have LGBTQ terminology that is less binary': {'score': 7, 'appear': 0, 'move': 7, 'rank': 28}, 'LGBTQ+ Resources': {'score': 7, 'appear': 1, 'move': 4, 'rank': 29}, 'Sexual orientation': {'score': 7, 'appear': 2, 'move': 1, 'rank': 30}, 'What are characteristics of a toxic relationship': {'score': 7, 'appear': 1, 'move': 4, 'rank': 31}, 'how to tell if you are in an emotionally abusive relationship': {'score': 7, 'appear': 1, 'move': 4, 'rank': 32}, 'xe xem': {'score': 7, 'appear': 1, 'move': 4, 'rank': 33}, 'Diversity': {'score': 6, 'appear': 0, 'move': 6, 'rank': 34}, 'Domestic violence hotlines and resources': {'score': 6, 'appear': 1, 'move': 3, 'rank': 35}, 'Gender questioning': {'score': 6, 'appear': 1, 'move': 3, 'rank': 36}, 'Healing from toxic relationships emotional abuse': {'score': 6, 'appear': 0, 'move': 6, 'rank': 37}, 'How to recognize an abusive partner': {'score': 6, 'appear': 1, 'move': 3, 'rank': 38}, 'Intersectionality': {'score': 6, 'appear': 2, 'move': 0, 'rank': 39}, 'Trans': {'score': 6, 'appear': 1, 'move': 3, 'rank': 40}, 'What are types of partner-based violence': {'score': 6, 'appear': 1, 'move': 3, 'rank': 41}, 'per per': {'score': 6, 'appear': 1, 'move': 3, 'rank': 42}, 'queer identities and pronouns ': {'score': 6, 'appear': 1, 'move': 3, 'rank': 43}, 'Abusive relationship help MA ': {'score': 5, 'appear': 0, 'move': 5, 'rank': 44}, 'Abusive relationship signs': {'score': 5, 'appear': 1, 'move': 2, 'rank': 45}, 'Aromantic': {'score': 5, 'appear': 0, 'move': 5, 'rank': 46}, 'Gay': {'score': 5, 'appear': 1, 'move': 2, 'rank': 47}, 'Gender identities': {'score': 5, 'appear': 1, 'move': 2, 'rank': 48}, 'Gender pronouns': {'score': 5, 'appear': 1, 'move': 2, 'rank': 49}, 'Gender reassignment surgeries': {'score': 5, 'appear': 1, 'move': 2, 'rank': 50}, 'Gender transitions': {'score': 5, 'appear': 1, 'move': 2, 'rank': 51}, 'Intersex': {'score': 5, 'appear': 1, 'move': 2, 'rank': 52}, 'Neopronouns': {'score': 5, 'appear': 0, 'move': 5, 'rank': 53}, 'Non-binary practices in different cultures': {'score': 5, 'appear': 1, 'move': 2, 'rank': 54}, 'Non-heterosexual': {'score': 5, 'appear': 1, 'move': 2, 'rank': 55}, 'Omnigender': {'score': 5, 'appear': 1, 'move': 2, 'rank': 56}, 'Pronouns definition': {'score': 5, 'appear': 1, 'move': 2, 'rank': 57}, 'Queer': {'score': 5, 'appear': 1, 'move': 2, 'rank': 58}, 'Why is it hard to leave an abusive partner': {'score': 5, 'appear': 1, 'move': 2, 'rank': 59}, 'e em': {'score': 5, 'appear': 1, 'move': 2, 'rank': 60}, 'Aro Ace': {'score': 4, 'appear': 0, 'move': 4, 'rank': 61}, 'Asexuality': {'score': 4, 'appear': 0, 'move': 4, 'rank': 62}, 'Gender binary': {'score': 4, 'appear': 0, 'move': 4, 'rank': 63}, 'Gender identity': {'score': 4, 'appear': 1, 'move': 1, 'rank': 64}, 'How to get out of a toxic relationship': {'score': 4, 'appear': 1, 'move': 1, 'rank': 65}, 'How to introduce new pronouns to your friends': {'score': 4, 'appear': 0, 'move': 4, 'rank': 66}, 'How to learn to receive healthy love': {'score': 4, 'appear': 1, 'move': 1, 'rank': 67}, 'How to recognize emotional abuse in relationships': {'score': 4, 'appear': 1, 'move': 1, 'rank': 68}, 'Lesbian': {'score': 4, 'appear': 0, 'move': 4, 'rank': 69}, 'Non-binary versus agender': {'score': 4, 'appear': 0, 'move': 4, 'rank': 70}, 'Nonbinary': {'score': 4, 'appear': 1, 'move': 1, 'rank': 71}, 'emotional abuse checklist': {'score': 4, 'appear': 0, 'move': 4, 'rank': 72}, 'he him': {'score': 4, 'appear': 0, 'move': 4, 'rank': 73}, 'Abusive relationship help': {'score': 3, 'appear': 0, 'move': 3, 'rank': 74}, 'Agender': {'score': 3, 'appear': 0, 'move': 3, 'rank': 75}, 'Domestic violence': {'score': 3, 'appear': 1, 'move': 0, 'rank': 76}, 'How many women suffer from violence in relationships': {'score': 3, 'appear': 1, 'move': 0, 'rank': 77}, 'How to recover from an abusive relationship': {'score': 3, 'appear': 1, 'move': 0, 'rank': 78}, 'Is being queer the same as being gay': {'score': 3, 'appear': 0, 'move': 3, 'rank': 79}, 'LGBTQ+ discrimination': {'score': 3, 'appear': 1, 'move': 0, 'rank': 80}, 'Partner abuse': {'score': 3, 'appear': 1, 'move': 0, 'rank': 81}, 'Pronouns': {'score': 3, 'appear': 1, 'move': 0, 'rank': 82}, 'Queer identities': {'score': 3, 'appear': 0, 'move': 3, 'rank': 83}, 'Toxic relationship patterns': {'score': 3, 'appear': 0, 'move': 3, 'rank': 84}, 'Transgender': {'score': 3, 'appear': 0, 'move': 3, 'rank': 85}, 'What is financial abuse in relationships': {'score': 3, 'appear': 1, 'move': 0, 'rank': 86}, 'how to tell if you are in a toxic relationship': {'score': 3, 'appear': 0, 'move': 3, 'rank': 87}, '(f)ae (f)aer': {'score': 2, 'appear': 0, 'move': 2, 'rank': 88}, 'Abusive relationship types ': {'score': 2, 'appear': 0, 'move': 2, 'rank': 89}, 'Bisexuality versus pansexuality': {'score': 2, 'appear': 0, 'move': 2, 'rank': 90}, 'Coming out': {'score': 2, 'appear': 0, 'move': 2, 'rank': 91}, 'Communities for victims of partner-based violence': {'score': 2, 'appear': 0, 'move': 2, 'rank': 92}, 'Emotional vs physical abuse': {'score': 2, 'appear': 0, 'move': 2, 'rank': 93}, 'Gender expression': {'score': 2, 'appear': 0, 'move': 2, 'rank': 94}, 'Gender non-conforming': {'score': 2, 'appear': 0, 'move': 2, 'rank': 95}, 'Gender reassignment': {'score': 2, 'appear': 0, 'move': 2, 'rank': 96}, 'Gender-expansive': {'score': 2, 'appear': 0, 'move': 2, 'rank': 97}, 'Genderfluid': {'score': 2, 'appear': 0, 'move': 2, 'rank': 98}, 'Genderqueer': {'score': 2, 'appear': 0, 'move': 2, 'rank': 99}, 'Healthy vs unhealthy love': {'score': 2, 'appear': 0, 'move': 2, 'rank': 100}, 'How many women die from domestic violence': {'score': 2, 'appear': 0, 'move': 2, 'rank': 101}, 'How to leave an abusive relationship': {'score': 2, 'appear': 0, 'move': 2, 'rank': 102}, 'Inclusion': {'score': 2, 'appear': 0, 'move': 2, 'rank': 103}, 'Queer identities definition': {'score': 2, 'appear': 0, 'move': 2, 'rank': 104}, 'Safety plan domestic violence': {'score': 2, 'appear': 0, 'move': 2, 'rank': 105}, 'Sexual Minority': {'score': 2, 'appear': 0, 'move': 2, 'rank': 106}, 'ze hir': {'score': 2, 'appear': 0, 'move': 2, 'rank': 107}, 'Bi': {'score': 1, 'appear': 0, 'move': 1, 'rank': 108}, 'Gender dysphoria': {'score': 1, 'appear': 0, 'move': 1, 'rank': 109}, 'How to help a friend in an abusive relationship': {'score': 1, 'appear': 0, 'move': 1, 'rank': 110}, 'Abusive relationship cycle': {'score': 0, 'appear': 0, 'move': 0, 'rank': 111}, 'Alternate pronouns': {'score': 0, 'appear': 0, 'move': 0, 'rank': 112}, 'Gender-affirming practices': {'score': 0, 'appear': 0, 'move': 0, 'rank': 113}, 'Sex assigned at birth': {'score': 0, 'appear': 0, 'move': 0, 'rank': 114}, 'Toxic relationship test ': {'score': 0, 'appear': 0, 'move': 0, 'rank': 115}, 'Two-spirit': {'score': 0, 'appear': 0, 'move': 0, 'rank': 116}, 'What does it mean to identify as queer': {'score': 0, 'appear': 0, 'move': 0, 'rank': 117}, 'Why do people stay in toxic relationships': {'score': 0, 'appear': 0, 'move': 0, 'rank': 118}, 've ver': {'score': 0, 'appear': 0, 'move': 0, 'rank': 119}, 'What are pronouns': {'score': -1, 'appear': -1, 'move': -1, 'rank': 120}, 'Why it is important for everyone to include their pronouns on social media etc': {'score': -1, 'appear': -1, 'move': -1, 'rank': 121}}\n",
      "\n",
      "6-8-22 6-9-22\n",
      "file not found\n",
      "file not found\n",
      "{'Gender-reaffirming resources free': {'score': 19, 'appear': 5, 'move': 4, 'rank': 1}, 'What are types of partner-based violence': {'score': 14, 'appear': 3, 'move': 5, 'rank': 2}, 'Resources for reporting partner abuse': {'score': 12, 'appear': 2, 'move': 6, 'rank': 3}, 'Inclusion': {'score': 11, 'appear': 2, 'move': 5, 'rank': 4}, 'Diversity': {'score': 10, 'appear': 2, 'move': 4, 'rank': 5}, 'How to be a LGBTQ+ ally': {'score': 10, 'appear': 2, 'move': 4, 'rank': 6}, 'per per': {'score': 10, 'appear': 2, 'move': 4, 'rank': 7}, 'Aro Ace': {'score': 9, 'appear': 2, 'move': 3, 'rank': 8}, 'Gender reassignment surgeries': {'score': 9, 'appear': 1, 'move': 6, 'rank': 9}, 'How to come out': {'score': 9, 'appear': 1, 'move': 6, 'rank': 10}, 'Lesbian': {'score': 9, 'appear': 2, 'move': 3, 'rank': 11}, 'Queer identities definition': {'score': 9, 'appear': 1, 'move': 6, 'rank': 12}, 'Toxic relationship': {'score': 9, 'appear': 1, 'move': 6, 'rank': 13}, 'ze hir': {'score': 9, 'appear': 1, 'move': 6, 'rank': 14}, 'Ace': {'score': 8, 'appear': 2, 'move': 2, 'rank': 15}, 'Agender': {'score': 8, 'appear': 1, 'move': 5, 'rank': 16}, 'Attachment styles and cycles of abuse': {'score': 8, 'appear': 1, 'move': 5, 'rank': 17}, 'Bisexual': {'score': 8, 'appear': 1, 'move': 5, 'rank': 18}, 'Gender binary': {'score': 8, 'appear': 1, 'move': 5, 'rank': 19}, 'How to recognize an abusive partner': {'score': 8, 'appear': 1, 'move': 5, 'rank': 20}, 'LGBTQ+ Resources': {'score': 8, 'appear': 2, 'move': 2, 'rank': 21}, 'Cisgender': {'score': 7, 'appear': 0, 'move': 7, 'rank': 22}, 'Coming out experiences': {'score': 7, 'appear': 1, 'move': 4, 'rank': 23}, 'Gaslighting': {'score': 7, 'appear': 1, 'move': 4, 'rank': 24}, 'Pronouns definition': {'score': 7, 'appear': 1, 'move': 4, 'rank': 25}, 'Pronouns': {'score': 7, 'appear': 1, 'move': 4, 'rank': 26}, 'What are characteristics of a toxic relationship': {'score': 7, 'appear': 1, 'move': 4, 'rank': 27}, 'Different kinds of domestic abuse': {'score': 6, 'appear': 0, 'move': 6, 'rank': 28}, 'Gender non-conforming': {'score': 6, 'appear': 1, 'move': 3, 'rank': 29}, 'How become financially independent in a relationship': {'score': 6, 'appear': 0, 'move': 6, 'rank': 30}, 'How to learn to receive healthy love': {'score': 6, 'appear': 1, 'move': 3, 'rank': 31}, 'How to recognize emotional abuse in relationships': {'score': 6, 'appear': 0, 'move': 6, 'rank': 32}, 'Learning about attachment styles': {'score': 6, 'appear': 2, 'move': 0, 'rank': 33}, 'Non-heterosexual': {'score': 6, 'appear': 1, 'move': 3, 'rank': 34}, 'Queer identities': {'score': 6, 'appear': 1, 'move': 3, 'rank': 35}, 'Trans': {'score': 6, 'appear': 1, 'move': 3, 'rank': 36}, 'What is financial abuse in relationships': {'score': 6, 'appear': 0, 'move': 6, 'rank': 37}, 'she her': {'score': 6, 'appear': 1, 'move': 3, 'rank': 38}, 'Abusive relationship help': {'score': 5, 'appear': 0, 'move': 5, 'rank': 39}, 'Abusive relationship': {'score': 5, 'appear': 1, 'move': 2, 'rank': 40}, 'Aromantic': {'score': 5, 'appear': 1, 'move': 2, 'rank': 41}, 'Asexual': {'score': 5, 'appear': 1, 'move': 2, 'rank': 42}, 'Bi': {'score': 5, 'appear': 0, 'move': 5, 'rank': 43}, 'Communities for victims of partner-based violence': {'score': 5, 'appear': 0, 'move': 5, 'rank': 44}, 'Gender dysphoria': {'score': 5, 'appear': 0, 'move': 5, 'rank': 45}, 'Gender expression': {'score': 5, 'appear': 1, 'move': 2, 'rank': 46}, 'Gender identity': {'score': 5, 'appear': 1, 'move': 2, 'rank': 47}, 'Gender-affirming practices': {'score': 5, 'appear': 0, 'move': 5, 'rank': 48}, 'Gender-expansive': {'score': 5, 'appear': 1, 'move': 2, 'rank': 49}, 'How many women suffer from violence in relationships': {'score': 5, 'appear': 1, 'move': 2, 'rank': 50}, 'How to have LGBTQ terminology that is less binary': {'score': 5, 'appear': 0, 'move': 5, 'rank': 51}, 'Neopronouns': {'score': 5, 'appear': 1, 'move': 2, 'rank': 52}, 'Non-binary practices in different cultures': {'score': 5, 'appear': 1, 'move': 2, 'rank': 53}, 'Non-binary versus agender': {'score': 5, 'appear': 0, 'move': 5, 'rank': 54}, 'Queer': {'score': 5, 'appear': 0, 'move': 5, 'rank': 55}, 'Sexual Minority': {'score': 5, 'appear': 1, 'move': 2, 'rank': 56}, 'Transgender': {'score': 5, 'appear': 0, 'move': 5, 'rank': 57}, 'he him': {'score': 5, 'appear': 1, 'move': 2, 'rank': 58}, 'queer identities and pronouns ': {'score': 5, 'appear': 1, 'move': 2, 'rank': 59}, 'they them': {'score': 5, 'appear': 1, 'move': 2, 'rank': 60}, '(f)ae (f)aer': {'score': 4, 'appear': 1, 'move': 1, 'rank': 61}, 'Abusive relationship help MA ': {'score': 4, 'appear': 0, 'move': 4, 'rank': 62}, 'Asexuality': {'score': 4, 'appear': 0, 'move': 4, 'rank': 63}, 'Domestic violence hotlines and resources': {'score': 4, 'appear': 0, 'move': 4, 'rank': 64}, 'Healthy vs unhealthy love': {'score': 4, 'appear': 1, 'move': 1, 'rank': 65}, 'Hotlines for those in abusive relationships': {'score': 4, 'appear': 1, 'move': 1, 'rank': 66}, 'Omnisexual': {'score': 4, 'appear': 1, 'move': 1, 'rank': 67}, 'Partner abuse': {'score': 4, 'appear': 1, 'move': 1, 'rank': 68}, 'Safety plan domestic violence': {'score': 4, 'appear': 1, 'move': 1, 'rank': 69}, 'Sexual orientation': {'score': 4, 'appear': 1, 'move': 1, 'rank': 70}, 'Toxic relationship patterns': {'score': 4, 'appear': 0, 'move': 4, 'rank': 71}, 'What is trauma bonding': {'score': 4, 'appear': 0, 'move': 4, 'rank': 72}, 'Why is it hard to leave an abusive partner': {'score': 4, 'appear': 1, 'move': 1, 'rank': 73}, 'Abusive relationship cycle': {'score': 3, 'appear': 0, 'move': 3, 'rank': 74}, 'Demisexual': {'score': 3, 'appear': 1, 'move': 0, 'rank': 75}, 'Gay': {'score': 3, 'appear': 0, 'move': 3, 'rank': 76}, 'Genderqueer': {'score': 3, 'appear': 1, 'move': 0, 'rank': 77}, 'How to create space for LGBTQ+ community': {'score': 3, 'appear': 1, 'move': 0, 'rank': 78}, 'How to get out of a toxic relationship': {'score': 3, 'appear': 1, 'move': 0, 'rank': 79}, 'How to leave an abusive relationship': {'score': 3, 'appear': 0, 'move': 3, 'rank': 80}, 'LGBTQ+': {'score': 3, 'appear': 0, 'move': 3, 'rank': 81}, 'Non-binary Gender Queer': {'score': 3, 'appear': 0, 'move': 3, 'rank': 82}, 'Nonbinary': {'score': 3, 'appear': 1, 'move': 0, 'rank': 83}, 'Omnigender': {'score': 3, 'appear': 1, 'move': 0, 'rank': 84}, 'What does it mean to identify as queer': {'score': 3, 'appear': 0, 'move': 3, 'rank': 85}, 'Why do people stay in toxic relationships': {'score': 3, 'appear': 0, 'move': 3, 'rank': 86}, 'e em': {'score': 3, 'appear': 0, 'move': 3, 'rank': 87}, 'Abusive relationship signs': {'score': 2, 'appear': 0, 'move': 2, 'rank': 88}, 'Abusive relationship types ': {'score': 2, 'appear': 0, 'move': 2, 'rank': 89}, 'Domestic violence': {'score': 2, 'appear': 0, 'move': 2, 'rank': 90}, 'Gender neutral gender inclusive pronouns': {'score': 2, 'appear': 0, 'move': 2, 'rank': 91}, 'Gender pronouns': {'score': 2, 'appear': 0, 'move': 2, 'rank': 92}, 'Gender questioning': {'score': 2, 'appear': 0, 'move': 2, 'rank': 93}, 'Gender reassignment': {'score': 2, 'appear': 0, 'move': 2, 'rank': 94}, 'Gender transitions': {'score': 2, 'appear': 0, 'move': 2, 'rank': 95}, 'Genderfluid': {'score': 2, 'appear': 0, 'move': 2, 'rank': 96}, 'Healing from toxic relationships emotional abuse': {'score': 2, 'appear': 0, 'move': 2, 'rank': 97}, 'How many women die from domestic violence': {'score': 2, 'appear': 0, 'move': 2, 'rank': 98}, 'How to help a friend in an abusive relationship': {'score': 2, 'appear': 0, 'move': 2, 'rank': 99}, 'How to introduce new pronouns to your friends': {'score': 2, 'appear': 0, 'move': 2, 'rank': 100}, 'emotional abuse checklist': {'score': 2, 'appear': 0, 'move': 2, 'rank': 101}, 'how to tell if you are in a toxic relationship': {'score': 2, 'appear': 0, 'move': 2, 'rank': 102}, 'how to tell if you are in an emotionally abusive relationship': {'score': 2, 'appear': 0, 'move': 2, 'rank': 103}, 've ver': {'score': 2, 'appear': 0, 'move': 2, 'rank': 104}, 'xe xem': {'score': 2, 'appear': 0, 'move': 2, 'rank': 105}, 'Intersectionality': {'score': 1, 'appear': 0, 'move': 1, 'rank': 106}, 'Is being queer the same as being gay': {'score': 1, 'appear': 0, 'move': 1, 'rank': 107}, 'Alternate pronouns': {'score': 0, 'appear': 0, 'move': 0, 'rank': 108}, 'Bisexuality versus pansexuality': {'score': 0, 'appear': 0, 'move': 0, 'rank': 109}, 'Coming out': {'score': 0, 'appear': 0, 'move': 0, 'rank': 110}, 'Emotional vs physical abuse': {'score': 0, 'appear': 0, 'move': 0, 'rank': 111}, 'Gender identities': {'score': 0, 'appear': 0, 'move': 0, 'rank': 112}, 'Gender neutral pronouns': {'score': 0, 'appear': 0, 'move': 0, 'rank': 113}, 'How to recover from an abusive relationship': {'score': 0, 'appear': 0, 'move': 0, 'rank': 114}, 'Intersex': {'score': 0, 'appear': 0, 'move': 0, 'rank': 115}, 'LGBTQ+ discrimination': {'score': 0, 'appear': 0, 'move': 0, 'rank': 116}, 'Sex assigned at birth': {'score': 0, 'appear': 0, 'move': 0, 'rank': 117}, 'Toxic relationship test ': {'score': 0, 'appear': 0, 'move': 0, 'rank': 118}, 'Two-spirit': {'score': 0, 'appear': 0, 'move': 0, 'rank': 119}, 'What are pronouns': {'score': -1, 'appear': -1, 'move': -1, 'rank': 120}, 'Why it is important for everyone to include their pronouns on social media etc': {'score': -1, 'appear': -1, 'move': -1, 'rank': 121}}\n",
      "\n"
     ]
    }
   ],
   "source": [
    "getPairs(folders)"
   ]
  },
  {
   "cell_type": "code",
   "execution_count": null,
   "id": "9c597bcc",
   "metadata": {},
   "outputs": [],
   "source": []
  }
 ],
 "metadata": {
  "kernelspec": {
   "display_name": "Python 3 (ipykernel)",
   "language": "python",
   "name": "python3"
  },
  "language_info": {
   "codemirror_mode": {
    "name": "ipython",
    "version": 3
   },
   "file_extension": ".py",
   "mimetype": "text/x-python",
   "name": "python",
   "nbconvert_exporter": "python",
   "pygments_lexer": "ipython3",
   "version": "3.9.7"
  }
 },
 "nbformat": 4,
 "nbformat_minor": 5
}
