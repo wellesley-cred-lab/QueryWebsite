{
 "cells": [
  {
   "cell_type": "code",
   "execution_count": 40,
   "id": "feaa8727",
   "metadata": {},
   "outputs": [],
   "source": [
    "import os\n",
    "import csv\n",
    "import shutil"
   ]
  },
  {
   "cell_type": "code",
   "execution_count": 52,
   "id": "17aec8fb",
   "metadata": {},
   "outputs": [],
   "source": [
    "os.chdir(\"..\")"
   ]
  },
  {
   "cell_type": "code",
   "execution_count": 53,
   "id": "4209c8f9",
   "metadata": {},
   "outputs": [],
   "source": [
    "with open('Topic-Classification/list_queer.csv') as inFile:\n",
    "    reader=csv.reader(inFile)\n",
    "    queer = []\n",
    "    for row in reader:\n",
    "        queer.append(row[0].replace(\"/\", \" \"))"
   ]
  },
  {
   "cell_type": "code",
   "execution_count": 54,
   "id": "4918dba3",
   "metadata": {},
   "outputs": [],
   "source": [
    "with open('Topic-Classification/list_relationships.csv') as inFile:\n",
    "    reader=csv.reader(inFile)\n",
    "    relationships = []\n",
    "    for row in reader:\n",
    "        relationships.append(row[0].replace(\"/\", \" \"))"
   ]
  },
  {
   "cell_type": "code",
   "execution_count": 55,
   "id": "7cba6fdd",
   "metadata": {},
   "outputs": [],
   "source": [
    "os.chdir('SERP_Collection')"
   ]
  },
  {
   "cell_type": "code",
   "execution_count": 56,
   "id": "aa78d3e6",
   "metadata": {},
   "outputs": [
    {
     "name": "stdout",
     "output_type": "stream",
     "text": [
      "/Users/amyhu/Desktop/identities-and-relationships/SERP_Collection\n"
     ]
    }
   ],
   "source": [
    "# files=os.listdir(\"6-999-22\")\n",
    "# files\n",
    "# path = os.getcwd()\n",
    "# print(path)\n",
    "# #os.mkdir('6-999-22/Queer')\n",
    "# #os.mkdir('6-999-22/Relationships')\n",
    "# for f in files:\n",
    "#     if not f.startswith('.') and f.endswith('html'):\n",
    "#         query = f.replace('.html', \"\")\n",
    "#         if query in queer:\n",
    "#             shutil.move(f\"{path}/6-999-22/{f}\", f\"{path}/6-999-22/Queer/\")\n",
    "#         if query in relationships:\n",
    "#             shutil.move(f\"{path}/6-999-22/{f}\", f\"{path}/6-999-22/Relationships/\")"
   ]
  },
  {
   "cell_type": "code",
   "execution_count": null,
   "id": "bf22411a",
   "metadata": {},
   "outputs": [],
   "source": []
  },
  {
   "cell_type": "code",
   "execution_count": 58,
   "id": "6d0227b9",
   "metadata": {},
   "outputs": [
    {
     "ename": "FileExistsError",
     "evalue": "[Errno 17] File exists: '6-999-22/Queer'",
     "output_type": "error",
     "traceback": [
      "\u001b[0;31m---------------------------------------------------------------------------\u001b[0m",
      "\u001b[0;31mFileExistsError\u001b[0m                           Traceback (most recent call last)",
      "\u001b[0;32m/var/folders/x1/c108dqc11n9fpdr0r4rg08t40000gn/T/ipykernel_1945/2135280694.py\u001b[0m in \u001b[0;36m<module>\u001b[0;34m\u001b[0m\n\u001b[1;32m      3\u001b[0m     \u001b[0;32mif\u001b[0m \u001b[0;32mnot\u001b[0m \u001b[0mfolder\u001b[0m\u001b[0;34m.\u001b[0m\u001b[0mstartswith\u001b[0m\u001b[0;34m(\u001b[0m\u001b[0;34m'.'\u001b[0m\u001b[0;34m)\u001b[0m\u001b[0;34m:\u001b[0m\u001b[0;34m\u001b[0m\u001b[0;34m\u001b[0m\u001b[0m\n\u001b[1;32m      4\u001b[0m         \u001b[0mfiles\u001b[0m \u001b[0;34m=\u001b[0m \u001b[0mos\u001b[0m\u001b[0;34m.\u001b[0m\u001b[0mlistdir\u001b[0m\u001b[0;34m(\u001b[0m\u001b[0mfolder\u001b[0m\u001b[0;34m)\u001b[0m\u001b[0;34m\u001b[0m\u001b[0;34m\u001b[0m\u001b[0m\n\u001b[0;32m----> 5\u001b[0;31m         \u001b[0mos\u001b[0m\u001b[0;34m.\u001b[0m\u001b[0mmkdir\u001b[0m\u001b[0;34m(\u001b[0m\u001b[0;34mf'{folder}/Queer'\u001b[0m\u001b[0;34m)\u001b[0m\u001b[0;34m\u001b[0m\u001b[0;34m\u001b[0m\u001b[0m\n\u001b[0m\u001b[1;32m      6\u001b[0m         \u001b[0mos\u001b[0m\u001b[0;34m.\u001b[0m\u001b[0mmkdir\u001b[0m\u001b[0;34m(\u001b[0m\u001b[0;34mf'{folder}/Relationships'\u001b[0m\u001b[0;34m)\u001b[0m\u001b[0;34m\u001b[0m\u001b[0;34m\u001b[0m\u001b[0m\n\u001b[1;32m      7\u001b[0m         \u001b[0;32mfor\u001b[0m \u001b[0mf\u001b[0m \u001b[0;32min\u001b[0m \u001b[0mfiles\u001b[0m\u001b[0;34m:\u001b[0m\u001b[0;34m\u001b[0m\u001b[0;34m\u001b[0m\u001b[0m\n",
      "\u001b[0;31mFileExistsError\u001b[0m: [Errno 17] File exists: '6-999-22/Queer'"
     ]
    }
   ],
   "source": [
    "folders = os.listdir()\n",
    "for folder in folders:\n",
    "    if not folder.startswith('.'):\n",
    "        files = os.listdir(folder)\n",
    "        os.mkdir(f'{folder}/Queer')\n",
    "        os.mkdir(f'{folder}/Relationships')\n",
    "        for f in files:\n",
    "            if not f.startswith('.') and f.endswith('html'):\n",
    "                query = f.replace('.html', \"\")\n",
    "                if query in queer:\n",
    "                    shutil.move(f\"{path}/{folder}/{f}\", f\"{path}/{folder}/Queer/\")\n",
    "                if query in relationships:\n",
    "                    shutil.move(f\"{path}/{folder}/{f}\", f\"{path}/{folder}/Relationships/\")"
   ]
  },
  {
   "cell_type": "code",
   "execution_count": null,
   "id": "53963a1b",
   "metadata": {},
   "outputs": [],
   "source": []
  },
  {
   "cell_type": "code",
   "execution_count": null,
   "id": "c9ef2c23",
   "metadata": {},
   "outputs": [],
   "source": []
  }
 ],
 "metadata": {
  "kernelspec": {
   "display_name": "Python 3 (ipykernel)",
   "language": "python",
   "name": "python3"
  },
  "language_info": {
   "codemirror_mode": {
    "name": "ipython",
    "version": 3
   },
   "file_extension": ".py",
   "mimetype": "text/x-python",
   "name": "python",
   "nbconvert_exporter": "python",
   "pygments_lexer": "ipython3",
   "version": "3.9.7"
  }
 },
 "nbformat": 4,
 "nbformat_minor": 5
}
