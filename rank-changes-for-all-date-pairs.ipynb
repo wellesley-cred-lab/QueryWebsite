{
 "cells": [
  {
   "cell_type": "code",
   "execution_count": 2,
   "id": "15f7d2ba",
   "metadata": {},
   "outputs": [],
   "source": [
    "import os"
   ]
  },
  {
   "cell_type": "code",
   "execution_count": 3,
   "id": "6aef6725",
   "metadata": {},
   "outputs": [
    {
     "data": {
      "text/plain": [
       "['6-13-22', '6-9-22', '6-8-22']"
      ]
     },
     "execution_count": 3,
     "metadata": {},
     "output_type": "execute_result"
    }
   ],
   "source": [
    "folders = os.listdir('SERP_Collection')\n",
    "folders.remove(\".DS_Store\")\n",
    "#print(folders)\n",
    "datesList = []\n",
    "for folder in folders:\n",
    "    dateComponents = folder.split(\"-\")\n",
    "    datesList.append({'month':int(dateComponents[0]), 'day':int(dateComponents[1]), 'year':int(dateComponents[2])})\n",
    "datesList = sorted(datesList, key=lambda x: (x['year'], x['month'], x['day']),reverse=True)\n",
    "sortedDates = []\n",
    "for d in datesList:\n",
    "    sortedDates.append(str(d['month'])+'-'+str(d['day'])+'-'+str(d['year']))\n",
    "folders = sortedDates \n",
    "folders"
   ]
  },
  {
   "cell_type": "code",
   "execution_count": 8,
   "id": "05ec05f2",
   "metadata": {},
   "outputs": [],
   "source": [
    "def getPairs(folders):\n",
    "    for i in range(0,len(folders)-1):\n",
    "            print(folders[i] + \" \" + folders[i+1])"
   ]
  },
  {
   "cell_type": "code",
   "execution_count": 9,
   "id": "2e6d4ada",
   "metadata": {},
   "outputs": [
    {
     "name": "stdout",
     "output_type": "stream",
     "text": [
      "6-13-22 6-9-22\n",
      "6-9-22 6-8-22\n"
     ]
    }
   ],
   "source": [
    "getPairs(folders)"
   ]
  },
  {
   "cell_type": "code",
   "execution_count": null,
   "id": "5265da50",
   "metadata": {},
   "outputs": [],
   "source": []
  }
 ],
 "metadata": {
  "kernelspec": {
   "display_name": "Python 3 (ipykernel)",
   "language": "python",
   "name": "python3"
  },
  "language_info": {
   "codemirror_mode": {
    "name": "ipython",
    "version": 3
   },
   "file_extension": ".py",
   "mimetype": "text/x-python",
   "name": "python",
   "nbconvert_exporter": "python",
   "pygments_lexer": "ipython3",
   "version": "3.9.7"
  }
 },
 "nbformat": 4,
 "nbformat_minor": 5
}
